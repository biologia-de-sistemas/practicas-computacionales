{
 "cells": [
  {
   "cell_type": "markdown",
   "metadata": {},
   "source": [
    "Solving angeli with Julia"
   ]
  },
  {
   "cell_type": "code",
   "execution_count": 1,
   "metadata": {},
   "outputs": [],
   "source": [
    "## ecuaciones diferenciales\n",
    "\n",
    "# Pkg.add(\"DifferentialEquations\") # this has to be called only once - takes some time"
   ]
  },
  {
   "cell_type": "code",
   "execution_count": 3,
   "metadata": {},
   "outputs": [],
   "source": [
    "# Pkg.add(\"PyDSTool\") #has to be called only once - takes some time "
   ]
  },
  {
   "cell_type": "code",
   "execution_count": 3,
   "metadata": {},
   "outputs": [
    {
     "name": "stderr",
     "output_type": "stream",
     "text": [
      "\u001b[1m\u001b[36mInfo: \u001b[39m\u001b[22m\u001b[36mInstalling PyDSTool via the Conda pydstool package...\n",
      "\u001b[39mWarning: 'conda-forge' already in 'channels' list, moving to the top\n"
     ]
    },
    {
     "name": "stdout",
     "output_type": "stream",
     "text": [
      "Solving environment: ...working... done\n",
      "\n",
      "# All requested packages already installed.\n",
      "\n"
     ]
    }
   ],
   "source": [
    "# también usaremos esto\n",
    "using PyDSTool;"
   ]
  },
  {
   "cell_type": "code",
   "execution_count": 2,
   "metadata": {},
   "outputs": [],
   "source": [
    "# carga la paquetería que vamos a usar\n",
    "using DifferentialEquations;"
   ]
  },
  {
   "cell_type": "markdown",
   "metadata": {},
   "source": [
    "Specifiy the model \n"
   ]
  },
  {
   "cell_type": "code",
   "execution_count": 6,
   "metadata": {},
   "outputs": [
    {
     "data": {
      "text/plain": [
       "(::Angeli) (generic function with 9 methods)"
      ]
     },
     "execution_count": 6,
     "metadata": {},
     "output_type": "execute_result"
    }
   ],
   "source": [
    "f = @ode_def Angeli begin\n",
    "  dx1 = alpha1*(1-x1)-beta1*x1*(v*y1)^gamma1/(K1+(v*y1)^gamma1)\n",
    "  dy1 = alpha2*(1-y1)-beta2*y1*(x1)^gamma2/(K2+(x1)^gamma2)\n",
    "end alpha1 alpha2 beta1 beta2 gamma1 gamma2 K1 K2 v"
   ]
  },
  {
   "cell_type": "code",
   "execution_count": 7,
   "metadata": {},
   "outputs": [],
   "source": [
    "u0 = [0;1] # initial condition\n",
    "tspan = [0;30] # integration time\n",
    "p = [1, 1, 200, 10, 4, 4, 30, 1, 1]; # vector of parameters"
   ]
  },
  {
   "cell_type": "code",
   "execution_count": 8,
   "metadata": {},
   "outputs": [
    {
     "data": {
      "text/plain": [
       "PyObject args (\n",
       " ics = {'y1': 1, 'x1': 0},\n",
       " varspecs = {'y1': 'alpha2 * (1 - y1) - (beta2 * y1 * x1 ^ gamma2) / (K2 + x1 ^ gamma2)', 'x1': 'alpha1 * (1 - x1) - (beta1 * x1 * (v * y1) ^ gamma1) / (K1 + (v * y1) ^ gamma1)'},\n",
       " pars = {'alpha2': 1, 'alpha1': 1, 'gamma2': 4, 'gamma1': 4, 'K2': 1, 'K1': 30, 'beta2': 10, 'beta1': 200, 'v': 1},\n",
       " name = Angeli,\n",
       " tdomain = [ 0 30]\n",
       ")"
      ]
     },
     "execution_count": 8,
     "metadata": {},
     "output_type": "execute_result"
    }
   ],
   "source": [
    "dsargs = build_ode(f,u0,tspan,p);\n",
    "#command to build the ODE with python tools; given the function, initial conditions, integration time and parameters"
   ]
  },
  {
   "cell_type": "code",
   "execution_count": 9,
   "metadata": {},
   "outputs": [
    {
     "data": {
      "text/plain": [
       "PyObject ContClass of model Angeli"
      ]
     },
     "execution_count": 9,
     "metadata": {},
     "output_type": "execute_result"
    }
   ],
   "source": [
    "ode = ds[:Generator][:Vode_ODEsystem](dsargs)\n",
    "ode[:set](pars = Dict(\"v\"=>0)) #initialize with a parametr (the initial value of the bifurcation parameter)\n",
    "ode[:set](ics  = Dict(\"y1\"=>0)) # initial condition: close to a steady state\n",
    "PC = ds[:ContClass](ode)"
   ]
  },
  {
   "cell_type": "code",
   "execution_count": 10,
   "metadata": {},
   "outputs": [],
   "source": [
    "bif = bifurcation_curve(PC,\"EP-C\",[\"v\"],\n",
    "                        max_num_points=450,\n",
    "                        max_stepsize=0.001,min_stepsize=1e-5,\n",
    "                        stepsize=2e-2,loc_bif_points=\"all\",\n",
    "                        save_eigen=true,name=\"EQ1\",\n",
    "                        print_info=true,calc_stab=true);"
   ]
  },
  {
   "cell_type": "markdown",
   "metadata": {},
   "source": [
    "his returns a BifurcationCurve type. Important fields of this type are:\n",
    "\n",
    "    points: the values along the curve\n",
    "\n",
    "    special_points: the values for the bifurcation points\n",
    "\n",
    "    stab: an array which gives the stability of each point along the curve. \"S\" is for stable, N is for neutral, and U is for unstable."
   ]
  },
  {
   "cell_type": "code",
   "execution_count": 13,
   "metadata": {},
   "outputs": [],
   "source": [
    "    #bif.points.vals[3]"
   ]
  },
  {
   "cell_type": "code",
   "execution_count": 11,
   "metadata": {},
   "outputs": [
    {
     "data": {
      "image/svg+xml": [
       "<?xml version=\"1.0\" encoding=\"utf-8\"?>\n",
       "<svg xmlns=\"http://www.w3.org/2000/svg\" xmlns:xlink=\"http://www.w3.org/1999/xlink\" width=\"600\" height=\"400\" viewBox=\"0 0 600 400\">\n",
       "<defs>\n",
       "  <clipPath id=\"clip1400\">\n",
       "    <rect x=\"0\" y=\"0\" width=\"600\" height=\"400\"/>\n",
       "  </clipPath>\n",
       "</defs>\n",
       "<polygon clip-path=\"url(#clip1400)\" points=\"\n",
       "0,400 600,400 600,0 0,0 \n",
       "  \" fill=\"#ffffff\" fill-opacity=\"1\"/>\n",
       "<defs>\n",
       "  <clipPath id=\"clip1401\">\n",
       "    <rect x=\"120\" y=\"0\" width=\"421\" height=\"400\"/>\n",
       "  </clipPath>\n",
       "</defs>\n",
       "<polygon clip-path=\"url(#clip1400)\" points=\"\n",
       "48.2225,360.121 580.315,360.121 580.315,11.811 48.2225,11.811 \n",
       "  \" fill=\"#ffffff\" fill-opacity=\"1\"/>\n",
       "<defs>\n",
       "  <clipPath id=\"clip1402\">\n",
       "    <rect x=\"48\" y=\"11\" width=\"533\" height=\"349\"/>\n",
       "  </clipPath>\n",
       "</defs>\n",
       "<polyline clip-path=\"url(#clip1402)\" style=\"stroke:#000000; stroke-width:0.5; stroke-opacity:0.1; fill:none\" points=\"\n",
       "  48.2225,360.121 48.2225,11.811 \n",
       "  \"/>\n",
       "<polyline clip-path=\"url(#clip1402)\" style=\"stroke:#000000; stroke-width:0.5; stroke-opacity:0.1; fill:none\" points=\"\n",
       "  74.8271,360.121 74.8271,11.811 \n",
       "  \"/>\n",
       "<polyline clip-path=\"url(#clip1402)\" style=\"stroke:#000000; stroke-width:0.5; stroke-opacity:0.1; fill:none\" points=\"\n",
       "  101.432,360.121 101.432,11.811 \n",
       "  \"/>\n",
       "<polyline clip-path=\"url(#clip1402)\" style=\"stroke:#000000; stroke-width:0.5; stroke-opacity:0.1; fill:none\" points=\"\n",
       "  128.036,360.121 128.036,11.811 \n",
       "  \"/>\n",
       "<polyline clip-path=\"url(#clip1402)\" style=\"stroke:#000000; stroke-width:0.5; stroke-opacity:0.1; fill:none\" points=\"\n",
       "  154.641,360.121 154.641,11.811 \n",
       "  \"/>\n",
       "<polyline clip-path=\"url(#clip1402)\" style=\"stroke:#000000; stroke-width:0.5; stroke-opacity:0.1; fill:none\" points=\"\n",
       "  181.246,360.121 181.246,11.811 \n",
       "  \"/>\n",
       "<polyline clip-path=\"url(#clip1402)\" style=\"stroke:#000000; stroke-width:0.5; stroke-opacity:0.1; fill:none\" points=\"\n",
       "  207.85,360.121 207.85,11.811 \n",
       "  \"/>\n",
       "<polyline clip-path=\"url(#clip1402)\" style=\"stroke:#000000; stroke-width:0.5; stroke-opacity:0.1; fill:none\" points=\"\n",
       "  234.455,360.121 234.455,11.811 \n",
       "  \"/>\n",
       "<polyline clip-path=\"url(#clip1402)\" style=\"stroke:#000000; stroke-width:0.5; stroke-opacity:0.1; fill:none\" points=\"\n",
       "  261.059,360.121 261.059,11.811 \n",
       "  \"/>\n",
       "<polyline clip-path=\"url(#clip1402)\" style=\"stroke:#000000; stroke-width:0.5; stroke-opacity:0.1; fill:none\" points=\"\n",
       "  287.664,360.121 287.664,11.811 \n",
       "  \"/>\n",
       "<polyline clip-path=\"url(#clip1402)\" style=\"stroke:#000000; stroke-width:0.5; stroke-opacity:0.1; fill:none\" points=\"\n",
       "  314.269,360.121 314.269,11.811 \n",
       "  \"/>\n",
       "<polyline clip-path=\"url(#clip1402)\" style=\"stroke:#000000; stroke-width:0.5; stroke-opacity:0.1; fill:none\" points=\"\n",
       "  340.873,360.121 340.873,11.811 \n",
       "  \"/>\n",
       "<polyline clip-path=\"url(#clip1402)\" style=\"stroke:#000000; stroke-width:0.5; stroke-opacity:0.1; fill:none\" points=\"\n",
       "  367.478,360.121 367.478,11.811 \n",
       "  \"/>\n",
       "<polyline clip-path=\"url(#clip1402)\" style=\"stroke:#000000; stroke-width:0.5; stroke-opacity:0.1; fill:none\" points=\"\n",
       "  394.083,360.121 394.083,11.811 \n",
       "  \"/>\n",
       "<polyline clip-path=\"url(#clip1402)\" style=\"stroke:#000000; stroke-width:0.5; stroke-opacity:0.1; fill:none\" points=\"\n",
       "  420.687,360.121 420.687,11.811 \n",
       "  \"/>\n",
       "<polyline clip-path=\"url(#clip1402)\" style=\"stroke:#000000; stroke-width:0.5; stroke-opacity:0.1; fill:none\" points=\"\n",
       "  447.292,360.121 447.292,11.811 \n",
       "  \"/>\n",
       "<polyline clip-path=\"url(#clip1402)\" style=\"stroke:#000000; stroke-width:0.5; stroke-opacity:0.1; fill:none\" points=\"\n",
       "  473.896,360.121 473.896,11.811 \n",
       "  \"/>\n",
       "<polyline clip-path=\"url(#clip1402)\" style=\"stroke:#000000; stroke-width:0.5; stroke-opacity:0.1; fill:none\" points=\"\n",
       "  500.501,360.121 500.501,11.811 \n",
       "  \"/>\n",
       "<polyline clip-path=\"url(#clip1402)\" style=\"stroke:#000000; stroke-width:0.5; stroke-opacity:0.1; fill:none\" points=\"\n",
       "  527.106,360.121 527.106,11.811 \n",
       "  \"/>\n",
       "<polyline clip-path=\"url(#clip1402)\" style=\"stroke:#000000; stroke-width:0.5; stroke-opacity:0.1; fill:none\" points=\"\n",
       "  553.71,360.121 553.71,11.811 \n",
       "  \"/>\n",
       "<polyline clip-path=\"url(#clip1402)\" style=\"stroke:#000000; stroke-width:0.5; stroke-opacity:0.1; fill:none\" points=\"\n",
       "  580.315,360.121 580.315,11.811 \n",
       "  \"/>\n",
       "<polyline clip-path=\"url(#clip1402)\" style=\"stroke:#000000; stroke-width:0.5; stroke-opacity:0.1; fill:none\" points=\"\n",
       "  48.2225,337.119 580.315,337.119 \n",
       "  \"/>\n",
       "<polyline clip-path=\"url(#clip1402)\" style=\"stroke:#000000; stroke-width:0.5; stroke-opacity:0.1; fill:none\" points=\"\n",
       "  48.2225,258.257 580.315,258.257 \n",
       "  \"/>\n",
       "<polyline clip-path=\"url(#clip1402)\" style=\"stroke:#000000; stroke-width:0.5; stroke-opacity:0.1; fill:none\" points=\"\n",
       "  48.2225,179.394 580.315,179.394 \n",
       "  \"/>\n",
       "<polyline clip-path=\"url(#clip1402)\" style=\"stroke:#000000; stroke-width:0.5; stroke-opacity:0.1; fill:none\" points=\"\n",
       "  48.2225,100.531 580.315,100.531 \n",
       "  \"/>\n",
       "<polyline clip-path=\"url(#clip1402)\" style=\"stroke:#000000; stroke-width:0.5; stroke-opacity:0.1; fill:none\" points=\"\n",
       "  48.2225,21.6688 580.315,21.6688 \n",
       "  \"/>\n",
       "<polyline clip-path=\"url(#clip1400)\" style=\"stroke:#000000; stroke-width:1; stroke-opacity:1; fill:none\" points=\"\n",
       "  48.2225,360.121 580.315,360.121 \n",
       "  \"/>\n",
       "<polyline clip-path=\"url(#clip1400)\" style=\"stroke:#000000; stroke-width:1; stroke-opacity:1; fill:none\" points=\"\n",
       "  48.2225,360.121 48.2225,11.811 \n",
       "  \"/>\n",
       "<polyline clip-path=\"url(#clip1400)\" style=\"stroke:#000000; stroke-width:1; stroke-opacity:1; fill:none\" points=\"\n",
       "  48.2225,360.121 48.2225,354.896 \n",
       "  \"/>\n",
       "<polyline clip-path=\"url(#clip1400)\" style=\"stroke:#000000; stroke-width:1; stroke-opacity:1; fill:none\" points=\"\n",
       "  74.8271,360.121 74.8271,354.896 \n",
       "  \"/>\n",
       "<polyline clip-path=\"url(#clip1400)\" style=\"stroke:#000000; stroke-width:1; stroke-opacity:1; fill:none\" points=\"\n",
       "  101.432,360.121 101.432,354.896 \n",
       "  \"/>\n",
       "<polyline clip-path=\"url(#clip1400)\" style=\"stroke:#000000; stroke-width:1; stroke-opacity:1; fill:none\" points=\"\n",
       "  128.036,360.121 128.036,354.896 \n",
       "  \"/>\n",
       "<polyline clip-path=\"url(#clip1400)\" style=\"stroke:#000000; stroke-width:1; stroke-opacity:1; fill:none\" points=\"\n",
       "  154.641,360.121 154.641,354.896 \n",
       "  \"/>\n",
       "<polyline clip-path=\"url(#clip1400)\" style=\"stroke:#000000; stroke-width:1; stroke-opacity:1; fill:none\" points=\"\n",
       "  181.246,360.121 181.246,354.896 \n",
       "  \"/>\n",
       "<polyline clip-path=\"url(#clip1400)\" style=\"stroke:#000000; stroke-width:1; stroke-opacity:1; fill:none\" points=\"\n",
       "  207.85,360.121 207.85,354.896 \n",
       "  \"/>\n",
       "<polyline clip-path=\"url(#clip1400)\" style=\"stroke:#000000; stroke-width:1; stroke-opacity:1; fill:none\" points=\"\n",
       "  234.455,360.121 234.455,354.896 \n",
       "  \"/>\n",
       "<polyline clip-path=\"url(#clip1400)\" style=\"stroke:#000000; stroke-width:1; stroke-opacity:1; fill:none\" points=\"\n",
       "  261.059,360.121 261.059,354.896 \n",
       "  \"/>\n",
       "<polyline clip-path=\"url(#clip1400)\" style=\"stroke:#000000; stroke-width:1; stroke-opacity:1; fill:none\" points=\"\n",
       "  287.664,360.121 287.664,354.896 \n",
       "  \"/>\n",
       "<polyline clip-path=\"url(#clip1400)\" style=\"stroke:#000000; stroke-width:1; stroke-opacity:1; fill:none\" points=\"\n",
       "  314.269,360.121 314.269,354.896 \n",
       "  \"/>\n",
       "<polyline clip-path=\"url(#clip1400)\" style=\"stroke:#000000; stroke-width:1; stroke-opacity:1; fill:none\" points=\"\n",
       "  340.873,360.121 340.873,354.896 \n",
       "  \"/>\n",
       "<polyline clip-path=\"url(#clip1400)\" style=\"stroke:#000000; stroke-width:1; stroke-opacity:1; fill:none\" points=\"\n",
       "  367.478,360.121 367.478,354.896 \n",
       "  \"/>\n",
       "<polyline clip-path=\"url(#clip1400)\" style=\"stroke:#000000; stroke-width:1; stroke-opacity:1; fill:none\" points=\"\n",
       "  394.083,360.121 394.083,354.896 \n",
       "  \"/>\n",
       "<polyline clip-path=\"url(#clip1400)\" style=\"stroke:#000000; stroke-width:1; stroke-opacity:1; fill:none\" points=\"\n",
       "  420.687,360.121 420.687,354.896 \n",
       "  \"/>\n",
       "<polyline clip-path=\"url(#clip1400)\" style=\"stroke:#000000; stroke-width:1; stroke-opacity:1; fill:none\" points=\"\n",
       "  447.292,360.121 447.292,354.896 \n",
       "  \"/>\n",
       "<polyline clip-path=\"url(#clip1400)\" style=\"stroke:#000000; stroke-width:1; stroke-opacity:1; fill:none\" points=\"\n",
       "  473.896,360.121 473.896,354.896 \n",
       "  \"/>\n",
       "<polyline clip-path=\"url(#clip1400)\" style=\"stroke:#000000; stroke-width:1; stroke-opacity:1; fill:none\" points=\"\n",
       "  500.501,360.121 500.501,354.896 \n",
       "  \"/>\n",
       "<polyline clip-path=\"url(#clip1400)\" style=\"stroke:#000000; stroke-width:1; stroke-opacity:1; fill:none\" points=\"\n",
       "  527.106,360.121 527.106,354.896 \n",
       "  \"/>\n",
       "<polyline clip-path=\"url(#clip1400)\" style=\"stroke:#000000; stroke-width:1; stroke-opacity:1; fill:none\" points=\"\n",
       "  553.71,360.121 553.71,354.896 \n",
       "  \"/>\n",
       "<polyline clip-path=\"url(#clip1400)\" style=\"stroke:#000000; stroke-width:1; stroke-opacity:1; fill:none\" points=\"\n",
       "  580.315,360.121 580.315,354.896 \n",
       "  \"/>\n",
       "<polyline clip-path=\"url(#clip1400)\" style=\"stroke:#000000; stroke-width:1; stroke-opacity:1; fill:none\" points=\"\n",
       "  48.2225,337.119 56.2039,337.119 \n",
       "  \"/>\n",
       "<polyline clip-path=\"url(#clip1400)\" style=\"stroke:#000000; stroke-width:1; stroke-opacity:1; fill:none\" points=\"\n",
       "  48.2225,258.257 56.2039,258.257 \n",
       "  \"/>\n",
       "<polyline clip-path=\"url(#clip1400)\" style=\"stroke:#000000; stroke-width:1; stroke-opacity:1; fill:none\" points=\"\n",
       "  48.2225,179.394 56.2039,179.394 \n",
       "  \"/>\n",
       "<polyline clip-path=\"url(#clip1400)\" style=\"stroke:#000000; stroke-width:1; stroke-opacity:1; fill:none\" points=\"\n",
       "  48.2225,100.531 56.2039,100.531 \n",
       "  \"/>\n",
       "<polyline clip-path=\"url(#clip1400)\" style=\"stroke:#000000; stroke-width:1; stroke-opacity:1; fill:none\" points=\"\n",
       "  48.2225,21.6688 56.2039,21.6688 \n",
       "  \"/>\n",
       "<g clip-path=\"url(#clip1400)\">\n",
       "<text style=\"fill:#000000; fill-opacity:1; font-family:Arial,Helvetica Neue,Helvetica,sans-serif; font-size:12; text-anchor:middle;\" transform=\"rotate(0, 48.2225, 373.921)\" x=\"48.2225\" y=\"373.921\">0.0</text>\n",
       "</g>\n",
       "<g clip-path=\"url(#clip1400)\">\n",
       "<text style=\"fill:#000000; fill-opacity:1; font-family:Arial,Helvetica Neue,Helvetica,sans-serif; font-size:12; text-anchor:middle;\" transform=\"rotate(0, 74.8271, 373.921)\" x=\"74.8271\" y=\"373.921\">0.1</text>\n",
       "</g>\n",
       "<g clip-path=\"url(#clip1400)\">\n",
       "<text style=\"fill:#000000; fill-opacity:1; font-family:Arial,Helvetica Neue,Helvetica,sans-serif; font-size:12; text-anchor:middle;\" transform=\"rotate(0, 101.432, 373.921)\" x=\"101.432\" y=\"373.921\">0.2</text>\n",
       "</g>\n",
       "<g clip-path=\"url(#clip1400)\">\n",
       "<text style=\"fill:#000000; fill-opacity:1; font-family:Arial,Helvetica Neue,Helvetica,sans-serif; font-size:12; text-anchor:middle;\" transform=\"rotate(0, 128.036, 373.921)\" x=\"128.036\" y=\"373.921\">0.3</text>\n",
       "</g>\n",
       "<g clip-path=\"url(#clip1400)\">\n",
       "<text style=\"fill:#000000; fill-opacity:1; font-family:Arial,Helvetica Neue,Helvetica,sans-serif; font-size:12; text-anchor:middle;\" transform=\"rotate(0, 154.641, 373.921)\" x=\"154.641\" y=\"373.921\">0.4</text>\n",
       "</g>\n",
       "<g clip-path=\"url(#clip1400)\">\n",
       "<text style=\"fill:#000000; fill-opacity:1; font-family:Arial,Helvetica Neue,Helvetica,sans-serif; font-size:12; text-anchor:middle;\" transform=\"rotate(0, 181.246, 373.921)\" x=\"181.246\" y=\"373.921\">0.5</text>\n",
       "</g>\n",
       "<g clip-path=\"url(#clip1400)\">\n",
       "<text style=\"fill:#000000; fill-opacity:1; font-family:Arial,Helvetica Neue,Helvetica,sans-serif; font-size:12; text-anchor:middle;\" transform=\"rotate(0, 207.85, 373.921)\" x=\"207.85\" y=\"373.921\">0.6</text>\n",
       "</g>\n",
       "<g clip-path=\"url(#clip1400)\">\n",
       "<text style=\"fill:#000000; fill-opacity:1; font-family:Arial,Helvetica Neue,Helvetica,sans-serif; font-size:12; text-anchor:middle;\" transform=\"rotate(0, 234.455, 373.921)\" x=\"234.455\" y=\"373.921\">0.7</text>\n",
       "</g>\n",
       "<g clip-path=\"url(#clip1400)\">\n",
       "<text style=\"fill:#000000; fill-opacity:1; font-family:Arial,Helvetica Neue,Helvetica,sans-serif; font-size:12; text-anchor:middle;\" transform=\"rotate(0, 261.059, 373.921)\" x=\"261.059\" y=\"373.921\">0.8</text>\n",
       "</g>\n",
       "<g clip-path=\"url(#clip1400)\">\n",
       "<text style=\"fill:#000000; fill-opacity:1; font-family:Arial,Helvetica Neue,Helvetica,sans-serif; font-size:12; text-anchor:middle;\" transform=\"rotate(0, 287.664, 373.921)\" x=\"287.664\" y=\"373.921\">0.9</text>\n",
       "</g>\n",
       "<g clip-path=\"url(#clip1400)\">\n",
       "<text style=\"fill:#000000; fill-opacity:1; font-family:Arial,Helvetica Neue,Helvetica,sans-serif; font-size:12; text-anchor:middle;\" transform=\"rotate(0, 314.269, 373.921)\" x=\"314.269\" y=\"373.921\">1.0</text>\n",
       "</g>\n",
       "<g clip-path=\"url(#clip1400)\">\n",
       "<text style=\"fill:#000000; fill-opacity:1; font-family:Arial,Helvetica Neue,Helvetica,sans-serif; font-size:12; text-anchor:middle;\" transform=\"rotate(0, 340.873, 373.921)\" x=\"340.873\" y=\"373.921\">1.1</text>\n",
       "</g>\n",
       "<g clip-path=\"url(#clip1400)\">\n",
       "<text style=\"fill:#000000; fill-opacity:1; font-family:Arial,Helvetica Neue,Helvetica,sans-serif; font-size:12; text-anchor:middle;\" transform=\"rotate(0, 367.478, 373.921)\" x=\"367.478\" y=\"373.921\">1.2</text>\n",
       "</g>\n",
       "<g clip-path=\"url(#clip1400)\">\n",
       "<text style=\"fill:#000000; fill-opacity:1; font-family:Arial,Helvetica Neue,Helvetica,sans-serif; font-size:12; text-anchor:middle;\" transform=\"rotate(0, 394.083, 373.921)\" x=\"394.083\" y=\"373.921\">1.3</text>\n",
       "</g>\n",
       "<g clip-path=\"url(#clip1400)\">\n",
       "<text style=\"fill:#000000; fill-opacity:1; font-family:Arial,Helvetica Neue,Helvetica,sans-serif; font-size:12; text-anchor:middle;\" transform=\"rotate(0, 420.687, 373.921)\" x=\"420.687\" y=\"373.921\">1.4</text>\n",
       "</g>\n",
       "<g clip-path=\"url(#clip1400)\">\n",
       "<text style=\"fill:#000000; fill-opacity:1; font-family:Arial,Helvetica Neue,Helvetica,sans-serif; font-size:12; text-anchor:middle;\" transform=\"rotate(0, 447.292, 373.921)\" x=\"447.292\" y=\"373.921\">1.5</text>\n",
       "</g>\n",
       "<g clip-path=\"url(#clip1400)\">\n",
       "<text style=\"fill:#000000; fill-opacity:1; font-family:Arial,Helvetica Neue,Helvetica,sans-serif; font-size:12; text-anchor:middle;\" transform=\"rotate(0, 473.896, 373.921)\" x=\"473.896\" y=\"373.921\">1.6</text>\n",
       "</g>\n",
       "<g clip-path=\"url(#clip1400)\">\n",
       "<text style=\"fill:#000000; fill-opacity:1; font-family:Arial,Helvetica Neue,Helvetica,sans-serif; font-size:12; text-anchor:middle;\" transform=\"rotate(0, 500.501, 373.921)\" x=\"500.501\" y=\"373.921\">1.7</text>\n",
       "</g>\n",
       "<g clip-path=\"url(#clip1400)\">\n",
       "<text style=\"fill:#000000; fill-opacity:1; font-family:Arial,Helvetica Neue,Helvetica,sans-serif; font-size:12; text-anchor:middle;\" transform=\"rotate(0, 527.106, 373.921)\" x=\"527.106\" y=\"373.921\">1.8</text>\n",
       "</g>\n",
       "<g clip-path=\"url(#clip1400)\">\n",
       "<text style=\"fill:#000000; fill-opacity:1; font-family:Arial,Helvetica Neue,Helvetica,sans-serif; font-size:12; text-anchor:middle;\" transform=\"rotate(0, 553.71, 373.921)\" x=\"553.71\" y=\"373.921\">1.9</text>\n",
       "</g>\n",
       "<g clip-path=\"url(#clip1400)\">\n",
       "<text style=\"fill:#000000; fill-opacity:1; font-family:Arial,Helvetica Neue,Helvetica,sans-serif; font-size:12; text-anchor:middle;\" transform=\"rotate(0, 580.315, 373.921)\" x=\"580.315\" y=\"373.921\">2.0</text>\n",
       "</g>\n",
       "<g clip-path=\"url(#clip1400)\">\n",
       "<text style=\"fill:#000000; fill-opacity:1; font-family:Arial,Helvetica Neue,Helvetica,sans-serif; font-size:12; text-anchor:end;\" transform=\"rotate(0, 42.2225, 341.619)\" x=\"42.2225\" y=\"341.619\">0.2</text>\n",
       "</g>\n",
       "<g clip-path=\"url(#clip1400)\">\n",
       "<text style=\"fill:#000000; fill-opacity:1; font-family:Arial,Helvetica Neue,Helvetica,sans-serif; font-size:12; text-anchor:end;\" transform=\"rotate(0, 42.2225, 262.757)\" x=\"42.2225\" y=\"262.757\">0.4</text>\n",
       "</g>\n",
       "<g clip-path=\"url(#clip1400)\">\n",
       "<text style=\"fill:#000000; fill-opacity:1; font-family:Arial,Helvetica Neue,Helvetica,sans-serif; font-size:12; text-anchor:end;\" transform=\"rotate(0, 42.2225, 183.894)\" x=\"42.2225\" y=\"183.894\">0.6</text>\n",
       "</g>\n",
       "<g clip-path=\"url(#clip1400)\">\n",
       "<text style=\"fill:#000000; fill-opacity:1; font-family:Arial,Helvetica Neue,Helvetica,sans-serif; font-size:12; text-anchor:end;\" transform=\"rotate(0, 42.2225, 105.031)\" x=\"42.2225\" y=\"105.031\">0.8</text>\n",
       "</g>\n",
       "<g clip-path=\"url(#clip1400)\">\n",
       "<text style=\"fill:#000000; fill-opacity:1; font-family:Arial,Helvetica Neue,Helvetica,sans-serif; font-size:12; text-anchor:end;\" transform=\"rotate(0, 42.2225, 26.1688)\" x=\"42.2225\" y=\"26.1688\">1.0</text>\n",
       "</g>\n",
       "<g clip-path=\"url(#clip1400)\">\n",
       "<text style=\"fill:#000000; fill-opacity:1; font-family:Arial,Helvetica Neue,Helvetica,sans-serif; font-size:16; text-anchor:middle;\" transform=\"rotate(0, 314.269, 397.6)\" x=\"314.269\" y=\"397.6\">v</text>\n",
       "</g>\n",
       "<g clip-path=\"url(#clip1400)\">\n",
       "<text style=\"fill:#000000; fill-opacity:1; font-family:Arial,Helvetica Neue,Helvetica,sans-serif; font-size:16; text-anchor:middle;\" transform=\"rotate(-90, 14.4, 185.966)\" x=\"14.4\" y=\"185.966\">y1</text>\n",
       "</g>\n",
       "<circle clip-path=\"url(#clip1402)\" style=\"fill:#000000; stroke:none; fill-opacity:1\" cx=\"526.273\" cy=\"331.829\" r=\"5\"/>\n",
       "<circle clip-path=\"url(#clip1402)\" style=\"fill:#ff0000; stroke:none; fill-opacity:1\" cx=\"526.273\" cy=\"331.829\" r=\"4\"/>\n",
       "<circle clip-path=\"url(#clip1402)\" style=\"fill:#000000; stroke:none; fill-opacity:1\" cx=\"269.46\" cy=\"58.6752\" r=\"5\"/>\n",
       "<circle clip-path=\"url(#clip1402)\" style=\"fill:#ff0000; stroke:none; fill-opacity:1\" cx=\"269.46\" cy=\"58.6752\" r=\"4\"/>\n",
       "<polyline clip-path=\"url(#clip1402)\" style=\"stroke:#0000ff; stroke-width:1; stroke-opacity:1; fill:none\" points=\"\n",
       "  48.2225,350.263 53.5434,350.263 58.8644,350.263 64.1853,350.263 69.5062,350.263 74.8271,350.263 80.1481,350.263 85.469,350.263 90.7899,350.262 96.1108,350.262 \n",
       "  101.432,350.262 106.753,350.262 112.074,350.261 117.395,350.26 122.715,350.259 128.036,350.258 133.357,350.257 138.678,350.255 143.999,350.253 149.32,350.251 \n",
       "  154.641,350.248 159.962,350.245 165.283,350.242 170.604,350.238 175.925,350.233 181.246,350.228 186.566,350.222 191.887,350.215 197.208,350.207 202.529,350.199 \n",
       "  207.85,350.189 213.171,350.179 218.492,350.168 223.813,350.155 229.133,350.141 234.454,350.126 239.775,350.11 245.096,350.092 250.416,350.072 255.737,350.051 \n",
       "  261.058,350.028 266.378,350.003 271.699,349.977 277.019,349.948 282.339,349.917 287.66,349.883 292.98,349.847 298.3,349.809 303.62,349.767 308.94,349.723 \n",
       "  314.259,349.675 319.579,349.625 324.898,349.571 330.217,349.513 335.536,349.451 340.854,349.385 346.173,349.315 351.49,349.24 356.808,349.16 362.125,349.075 \n",
       "  367.441,348.985 372.757,348.888 378.072,348.785 383.387,348.676 388.7,348.559 394.013,348.434 399.325,348.301 404.635,348.159 409.944,348.008 415.252,347.846 \n",
       "  420.558,347.672 425.862,347.486 431.163,347.287 436.462,347.073 441.758,346.842 447.05,346.594 452.337,346.325 457.619,346.034 462.896,345.717 468.164,345.371 \n",
       "  473.424,344.991 478.671,344.573 483.904,344.108 489.118,343.589 494.307,343.003 499.46,342.334 504.563,341.556 509.589,340.633 514.487,339.504 519.148,338.062 \n",
       "  523.283,336.092 526.002,333.206 526.273,331.829 \n",
       "  \"/>\n",
       "<polyline clip-path=\"url(#clip1402)\" style=\"stroke:#0000ff; stroke-width:1; stroke-opacity:1; fill:none\" points=\"\n",
       "  269.707,53.0918 270.488,47.8679 271.849,43.1171 273.8,38.9373 276.309,35.3833 279.31,32.452 282.721,30.091 286.464,28.2204 290.47,26.7539 294.687,25.6114 \n",
       "  299.074,24.7248 303.6,24.0381 308.241,23.5068 312.978,23.0959 317.796,22.7782 322.684,22.5325 327.631,22.3423 332.629,22.195 337.671,22.0808 342.751,21.9922 \n",
       "  347.864,21.9232 353.004,21.8695 358.169,21.8276 363.355,21.7948 368.559,21.7691 373.779,21.7489 379.012,21.7329 384.256,21.7204 389.511,21.7104 394.774,21.7024 \n",
       "  400.045,21.6961 405.322,21.6911 410.605,21.687 415.892,21.6837 421.184,21.6811 426.479,21.679 431.778,21.6772 437.079,21.6758 442.383,21.6747 447.688,21.6737 \n",
       "  452.996,21.6729 458.305,21.6723 463.615,21.6718 468.927,21.6713 474.24,21.671 479.553,21.6706 484.868,21.6704 490.183,21.6702 495.499,21.67 500.815,21.6698 \n",
       "  506.132,21.6697 511.449,21.6696 516.767,21.6695 522.085,21.6694 527.403,21.6693 532.722,21.6693 538.041,21.6692 543.36,21.6692 548.679,21.6691 553.998,21.6691 \n",
       "  559.318,21.6691 564.638,21.6691 569.957,21.669 575.277,21.669 580.597,21.669 585.917,21.669 591.238,21.669 596.558,21.669 601.878,21.6689 607.199,21.6689 \n",
       "  612.519,21.6689 617.839,21.6689 623.16,21.6689 628.48,21.6689 633.801,21.6689 639.122,21.6689 644.442,21.6689 649.763,21.6689 655.084,21.6689 660.404,21.6689 \n",
       "  665.725,21.6689 671.046,21.6689 676.366,21.6689 681.687,21.6689 687.008,21.6689 692.329,21.6689 697.65,21.6689 702.97,21.6689 708.291,21.6689 713.612,21.6689 \n",
       "  718.933,21.6689 724.254,21.6689 729.574,21.6689 734.895,21.6689 740.216,21.6689 745.537,21.6689 750.858,21.6689 756.179,21.6689 761.5,21.6689 766.821,21.6689 \n",
       "  772.141,21.6689 777.462,21.6689 782.783,21.6689 788.104,21.6689 793.425,21.6689 798.746,21.6689 804.067,21.6689 809.388,21.6689 814.709,21.6689 820.029,21.6689 \n",
       "  825.35,21.6689 830.671,21.6688 835.992,21.6688 841.313,21.6688 846.634,21.6688 851.955,21.6688 857.276,21.6688 862.597,21.6688 867.918,21.6688 873.239,21.6688 \n",
       "  878.559,21.6688 883.88,21.6688 889.201,21.6688 894.522,21.6688 899.843,21.6688 905.164,21.6688 910.485,21.6688 915.806,21.6688 921.127,21.6688 926.448,21.6688 \n",
       "  931.769,21.6688 937.09,21.6688 942.41,21.6688 947.731,21.6688 953.052,21.6688 958.373,21.6688 963.694,21.6688 969.015,21.6688 974.336,21.6688 979.657,21.6688 \n",
       "  984.978,21.6688 990.299,21.6688 995.62,21.6688 1000.94,21.6688 1006.26,21.6688 1011.58,21.6688 1016.9,21.6688 1022.22,21.6688 1027.55,21.6688 1032.87,21.6688 \n",
       "  1038.19,21.6688 1043.51,21.6688 1048.83,21.6688 1054.15,21.6688 1059.47,21.6688 1064.79,21.6688 1070.11,21.6688 1075.43,21.6688 1080.75,21.6688 1086.08,21.6688 \n",
       "  1091.4,21.6688 1096.72,21.6688 1102.04,21.6688 1107.36,21.6688 1112.68,21.6688 1118,21.6688 1123.32,21.6688 1128.64,21.6688 1133.96,21.6688 1139.28,21.6688 \n",
       "  1144.61,21.6688 1149.93,21.6688 1155.25,21.6688 1160.57,21.6688 1165.89,21.6688 1171.21,21.6688 1176.53,21.6688 1181.85,21.6688 1187.17,21.6688 1192.49,21.6688 \n",
       "  1197.81,21.6688 1203.14,21.6688 1208.46,21.6688 1213.78,21.6688 1219.1,21.6688 1224.42,21.6688 1229.74,21.6688 1235.06,21.6688 1240.38,21.6688 1245.7,21.6688 \n",
       "  1251.02,21.6688 1256.34,21.6688 1261.67,21.6688 1266.99,21.6688 1272.31,21.6688 1277.63,21.6688 1282.95,21.6688 1288.27,21.6688 1293.59,21.6688 1298.91,21.6688 \n",
       "  1304.23,21.6688 1309.55,21.6688 1314.88,21.6688 1320.2,21.6688 1325.52,21.6688 1330.84,21.6688 1336.16,21.6688 1341.48,21.6688 1346.8,21.6688 1352.12,21.6688 \n",
       "  1357.44,21.6688 1362.76,21.6688 1368.08,21.6688 1373.41,21.6688 1378.73,21.6688 1384.05,21.6688 1389.37,21.6688 1394.69,21.6688 1400.01,21.6688 1405.33,21.6688 \n",
       "  1410.65,21.6688 1415.97,21.6688 1421.29,21.6688 1426.61,21.6688 1431.94,21.6688 1437.26,21.6688 1442.58,21.6688 1447.9,21.6688 1453.22,21.6688 1458.54,21.6688 \n",
       "  1463.86,21.6688 1469.18,21.6688 1474.5,21.6688 1479.82,21.6688 1485.14,21.6688 1490.47,21.6688 1495.79,21.6688 1501.11,21.6688 1506.43,21.6688 1511.75,21.6688 \n",
       "  1517.07,21.6688 1522.39,21.6688 1527.71,21.6688 1533.03,21.6688 1538.35,21.6688 1543.67,21.6688 1549,21.6688 1554.32,21.6688 1559.64,21.6688 1564.96,21.6688 \n",
       "  1570.28,21.6688 1575.6,21.6688 1580.92,21.6688 1586.24,21.6688 1591.56,21.6688 1596.88,21.6688 1602.21,21.6688 1607.53,21.6688 1612.85,21.6688 1618.17,21.6688 \n",
       "  1623.49,21.6688 1628.81,21.6688 1634.13,21.6688 1639.45,21.6688 1644.77,21.6688 1650.09,21.6688 1655.41,21.6688 1660.74,21.6688 1666.06,21.6688 1671.38,21.6688 \n",
       "  1676.7,21.6688 1682.02,21.6688 1687.34,21.6688 1692.66,21.6688 1697.98,21.6688 1703.3,21.6688 1708.62,21.6688 1713.94,21.6688 1719.27,21.6688 1724.59,21.6688 \n",
       "  1729.91,21.6688 1735.23,21.6688 1740.55,21.6688 1745.87,21.6688 1751.19,21.6688 1756.51,21.6688 1761.83,21.6688 1767.15,21.6688 \n",
       "  \"/>\n",
       "<polyline clip-path=\"url(#clip1402)\" style=\"stroke:#ff0000; stroke-width:1; stroke-opacity:1; fill:none\" stroke-dasharray=\"8, 5\" points=\"\n",
       "  526.273,331.829 524.818,328.273 521.741,325.165 517.99,322.359 513.9,319.734 509.612,317.224 505.196,314.787 500.694,312.396 496.129,310.031 491.519,307.678 \n",
       "  486.876,305.328 482.207,302.971 477.519,300.601 472.818,298.211 468.107,295.798 463.39,293.355 458.671,290.88 453.951,288.368 449.233,285.817 444.519,283.222 \n",
       "  439.812,280.582 435.112,277.892 430.423,275.15 425.745,272.353 421.08,269.499 416.431,266.585 411.798,263.608 407.185,260.565 402.591,257.454 398.02,254.273 \n",
       "  393.474,251.018 388.953,247.688 384.461,244.28 379.999,240.791 375.569,237.22 371.174,233.563 366.816,229.819 362.497,225.986 358.221,222.061 353.989,218.042 \n",
       "  349.805,213.929 345.67,209.719 341.589,205.411 337.564,201.003 333.599,196.495 329.695,191.885 325.859,187.174 322.091,182.361 318.397,177.445 314.78,172.428 \n",
       "  311.243,167.309 307.792,162.09 304.431,156.772 301.164,151.357 297.997,145.846 294.935,140.244 291.984,134.551 289.152,128.774 286.445,122.915 283.873,116.981 \n",
       "  281.447,110.978 279.178,104.914 277.083,98.7998 275.179,92.6473 273.488,86.4734 272.04,80.3003 270.869,74.1575 270.019,68.0853 269.542,62.139 269.46,58.6752 \n",
       "  269.707,53.0918 \n",
       "  \"/>\n",
       "</svg>\n"
      ]
     },
     "execution_count": 11,
     "metadata": {},
     "output_type": "execute_result"
    }
   ],
   "source": [
    "using Plots\n",
    "plot(bif,(:v,:y1))\n",
    "plot!(xlims=(0,2),xticks=0:0.1:2)"
   ]
  },
  {
   "cell_type": "code",
   "execution_count": null,
   "metadata": {},
   "outputs": [],
   "source": []
  },
  {
   "cell_type": "code",
   "execution_count": null,
   "metadata": {},
   "outputs": [],
   "source": []
  },
  {
   "cell_type": "code",
   "execution_count": null,
   "metadata": {},
   "outputs": [],
   "source": []
  },
  {
   "cell_type": "code",
   "execution_count": null,
   "metadata": {},
   "outputs": [],
   "source": []
  },
  {
   "cell_type": "code",
   "execution_count": null,
   "metadata": {},
   "outputs": [],
   "source": []
  },
  {
   "cell_type": "code",
   "execution_count": null,
   "metadata": {},
   "outputs": [],
   "source": []
  },
  {
   "cell_type": "code",
   "execution_count": null,
   "metadata": {},
   "outputs": [],
   "source": []
  },
  {
   "cell_type": "code",
   "execution_count": 16,
   "metadata": {},
   "outputs": [
    {
     "name": "stderr",
     "output_type": "stream",
     "text": [
      "\u001b[1m\u001b[36mINFO: \u001b[39m\u001b[22m\u001b[36mCloning cache of LaTeXStrings from https://github.com/stevengj/LaTeXStrings.jl.git\n",
      "\u001b[39m\u001b[1m\u001b[36mINFO: \u001b[39m\u001b[22m\u001b[36mCloning cache of PyPlot from https://github.com/JuliaPy/PyPlot.jl.git\n",
      "\u001b[39m\u001b[1m\u001b[36mINFO: \u001b[39m\u001b[22m\u001b[36mInstalling LaTeXStrings v0.3.0\n",
      "\u001b[39m\u001b[1m\u001b[36mINFO: \u001b[39m\u001b[22m\u001b[36mInstalling PyPlot v2.5.0\n",
      "\u001b[39m\u001b[1m\u001b[36mINFO: \u001b[39m\u001b[22m\u001b[36mBuilding Conda\n",
      "\u001b[39m\u001b[1m\u001b[36mINFO: \u001b[39m\u001b[22m\u001b[36mBuilding PyCall\n",
      "\u001b[39m"
     ]
    },
    {
     "name": "stdout",
     "output_type": "stream",
     "text": [
      "Solving environment: ...working... done\n",
      "\n",
      "# All requested packages already installed.\n",
      "\n"
     ]
    },
    {
     "name": "stderr",
     "output_type": "stream",
     "text": [
      "\u001b[1m\u001b[36mInfo: \u001b[39m\u001b[22m\u001b[36mPyCall is using C:\\Users\\Elisa\\.julia\\v0.6\\Conda\\deps\\usr\\python.exe (Python 2.7.15) at C:\\Users\\Elisa\\.julia\\v0.6\\Conda\\deps\\usr\\python.exe, libpython = C:\\Users\\Elisa\\.julia\\v0.6\\Conda\\deps\\usr\\python27\n",
      "\u001b[39m\u001b[1m\u001b[36mInfo: \u001b[39m\u001b[22m\u001b[36mC:\\Users\\Elisa\\.julia\\v0.6\\PyCall\\deps\\deps.jl has not changed\n",
      "\u001b[39m\u001b[1m\u001b[36mInfo: \u001b[39m\u001b[22m\u001b[36mC:\\Users\\Elisa\\.julia\\v0.6\\PyCall\\deps\\PYTHON has not changed\n",
      "\u001b[39m\u001b[1m\u001b[36mINFO: \u001b[39m\u001b[22m\u001b[36mPackage database updated\n",
      "\u001b[39m"
     ]
    }
   ],
   "source": []
  },
  {
   "cell_type": "code",
   "execution_count": null,
   "metadata": {},
   "outputs": [
    {
     "name": "stderr",
     "output_type": "stream",
     "text": [
      "\u001b[1m\u001b[36mINFO: \u001b[39m\u001b[22m\u001b[36mCloning cache of AxisAlgorithms from https://github.com/timholy/AxisAlgorithms.jl.git\n",
      "\u001b[39m\u001b[1m\u001b[36mINFO: \u001b[39m\u001b[22m\u001b[36mCloning cache of CategoricalArrays from https://github.com/JuliaData/CategoricalArrays.jl.git\n",
      "\u001b[39m\u001b[1m\u001b[36mINFO: \u001b[39m\u001b[22m\u001b[36mCloning cache of CodecZlib from https://github.com/bicycle1885/CodecZlib.jl.git\n",
      "\u001b[39m\u001b[1m\u001b[36mINFO: \u001b[39m\u001b[22m\u001b[36mCloning cache of Compose from https://github.com/GiovineItalia/Compose.jl.git\n",
      "\u001b[39m"
     ]
    }
   ],
   "source": []
  },
  {
   "cell_type": "code",
   "execution_count": null,
   "metadata": {},
   "outputs": [],
   "source": []
  },
  {
   "cell_type": "code",
   "execution_count": null,
   "metadata": {},
   "outputs": [],
   "source": []
  }
 ],
 "metadata": {
  "kernelspec": {
   "display_name": "Julia 0.6.3",
   "language": "julia",
   "name": "julia-0.6"
  },
  "language_info": {
   "file_extension": ".jl",
   "mimetype": "application/julia",
   "name": "julia",
   "version": "0.6.3"
  }
 },
 "nbformat": 4,
 "nbformat_minor": 2
}
